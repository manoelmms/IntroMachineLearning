{
 "cells": [
  {
   "cell_type": "markdown",
   "metadata": {},
   "source": [
    "# Tarefa 1 - Pré-processamento\n",
    "\n",
    "Disciplina de Introdução ao Aprendizado de Máquina - 2024.1\n",
    "\n",
    "Professor: João Carlos Pereira da Silva\n",
    "\n",
    "Aluno: Manoel Marcelo da Silva (121088349)"
   ]
  },
  {
   "cell_type": "code",
   "execution_count": 130,
   "metadata": {},
   "outputs": [],
   "source": [
    "import pandas as pd\n",
    "import numpy as np\n",
    "from scipy import stats\n",
    "import matplotlib.pyplot as plt\n",
    "from sklearn.preprocessing import StandardScaler, MinMaxScaler, RobustScaler, OneHotEncoder, OrdinalEncoder, LabelBinarizer"
   ]
  },
  {
   "cell_type": "code",
   "execution_count": 3,
   "metadata": {},
   "outputs": [
    {
     "data": {
      "text/html": [
       "<div>\n",
       "<style scoped>\n",
       "    .dataframe tbody tr th:only-of-type {\n",
       "        vertical-align: middle;\n",
       "    }\n",
       "\n",
       "    .dataframe tbody tr th {\n",
       "        vertical-align: top;\n",
       "    }\n",
       "\n",
       "    .dataframe thead th {\n",
       "        text-align: right;\n",
       "    }\n",
       "</style>\n",
       "<table border=\"1\" class=\"dataframe\">\n",
       "  <thead>\n",
       "    <tr style=\"text-align: right;\">\n",
       "      <th></th>\n",
       "      <th>gender</th>\n",
       "      <th>race/ethnicity</th>\n",
       "      <th>parental level of education</th>\n",
       "      <th>lunch</th>\n",
       "      <th>test preparation course</th>\n",
       "      <th>math score</th>\n",
       "      <th>reading score</th>\n",
       "      <th>writing score</th>\n",
       "    </tr>\n",
       "  </thead>\n",
       "  <tbody>\n",
       "    <tr>\n",
       "      <th>0</th>\n",
       "      <td>female</td>\n",
       "      <td>group B</td>\n",
       "      <td>bachelor's degree</td>\n",
       "      <td>standard</td>\n",
       "      <td>none</td>\n",
       "      <td>72</td>\n",
       "      <td>72</td>\n",
       "      <td>74</td>\n",
       "    </tr>\n",
       "    <tr>\n",
       "      <th>1</th>\n",
       "      <td>female</td>\n",
       "      <td>group C</td>\n",
       "      <td>some college</td>\n",
       "      <td>standard</td>\n",
       "      <td>completed</td>\n",
       "      <td>69</td>\n",
       "      <td>90</td>\n",
       "      <td>88</td>\n",
       "    </tr>\n",
       "    <tr>\n",
       "      <th>2</th>\n",
       "      <td>female</td>\n",
       "      <td>group B</td>\n",
       "      <td>master's degree</td>\n",
       "      <td>standard</td>\n",
       "      <td>none</td>\n",
       "      <td>90</td>\n",
       "      <td>95</td>\n",
       "      <td>93</td>\n",
       "    </tr>\n",
       "    <tr>\n",
       "      <th>3</th>\n",
       "      <td>male</td>\n",
       "      <td>group A</td>\n",
       "      <td>associate's degree</td>\n",
       "      <td>free/reduced</td>\n",
       "      <td>none</td>\n",
       "      <td>47</td>\n",
       "      <td>57</td>\n",
       "      <td>44</td>\n",
       "    </tr>\n",
       "    <tr>\n",
       "      <th>4</th>\n",
       "      <td>male</td>\n",
       "      <td>group C</td>\n",
       "      <td>some college</td>\n",
       "      <td>standard</td>\n",
       "      <td>none</td>\n",
       "      <td>76</td>\n",
       "      <td>78</td>\n",
       "      <td>75</td>\n",
       "    </tr>\n",
       "  </tbody>\n",
       "</table>\n",
       "</div>"
      ],
      "text/plain": [
       "   gender race/ethnicity parental level of education         lunch  \\\n",
       "0  female        group B           bachelor's degree      standard   \n",
       "1  female        group C                some college      standard   \n",
       "2  female        group B             master's degree      standard   \n",
       "3    male        group A          associate's degree  free/reduced   \n",
       "4    male        group C                some college      standard   \n",
       "\n",
       "  test preparation course  math score  reading score  writing score  \n",
       "0                    none          72             72             74  \n",
       "1               completed          69             90             88  \n",
       "2                    none          90             95             93  \n",
       "3                    none          47             57             44  \n",
       "4                    none          76             78             75  "
      ]
     },
     "execution_count": 3,
     "metadata": {},
     "output_type": "execute_result"
    }
   ],
   "source": [
    "# https://www.kaggle.com/datasets/spscientist/students-performance-in-exams\n",
    "df = pd.read_csv('./StudentsPerformance.csv')\n",
    "df.head()"
   ]
  },
  {
   "cell_type": "code",
   "execution_count": 4,
   "metadata": {},
   "outputs": [
    {
     "data": {
      "text/plain": [
       "gender                         object\n",
       "race/ethnicity                 object\n",
       "parental level of education    object\n",
       "lunch                          object\n",
       "test preparation course        object\n",
       "math score                      int64\n",
       "reading score                   int64\n",
       "writing score                   int64\n",
       "dtype: object"
      ]
     },
     "execution_count": 4,
     "metadata": {},
     "output_type": "execute_result"
    }
   ],
   "source": [
    "df.dtypes"
   ]
  },
  {
   "cell_type": "code",
   "execution_count": 5,
   "metadata": {},
   "outputs": [
    {
     "data": {
      "text/plain": [
       "gender                         1000\n",
       "race/ethnicity                 1000\n",
       "parental level of education    1000\n",
       "lunch                          1000\n",
       "test preparation course        1000\n",
       "math score                     1000\n",
       "reading score                  1000\n",
       "writing score                  1000\n",
       "dtype: int64"
      ]
     },
     "execution_count": 5,
     "metadata": {},
     "output_type": "execute_result"
    }
   ],
   "source": [
    "df.count()"
   ]
  },
  {
   "cell_type": "code",
   "execution_count": 35,
   "metadata": {},
   "outputs": [
    {
     "data": {
      "text/plain": [
       "gender                         0\n",
       "race/ethnicity                 0\n",
       "parental level of education    0\n",
       "lunch                          0\n",
       "test preparation course        0\n",
       "math score                     0\n",
       "reading score                  0\n",
       "writing score                  0\n",
       "dtype: int64"
      ]
     },
     "execution_count": 35,
     "metadata": {},
     "output_type": "execute_result"
    }
   ],
   "source": [
    "# Check for missing values\n",
    "df.isnull().sum()"
   ]
  },
  {
   "cell_type": "code",
   "execution_count": 36,
   "metadata": {},
   "outputs": [
    {
     "data": {
      "text/plain": [
       "0"
      ]
     },
     "execution_count": 36,
     "metadata": {},
     "output_type": "execute_result"
    }
   ],
   "source": [
    "# Check for duplicates\n",
    "\n",
    "df.duplicated().sum()"
   ]
  },
  {
   "cell_type": "markdown",
   "metadata": {},
   "source": [
    "## Medidas de Posição e Dispersão"
   ]
  },
  {
   "cell_type": "code",
   "execution_count": 9,
   "metadata": {},
   "outputs": [
    {
     "name": "stdout",
     "output_type": "stream",
     "text": [
      "Média Math:  66.089\n",
      "Média Reading:  69.169\n",
      "Média Writing:  68.054\n",
      "Mediana Math:  66.0\n",
      "Mediana Reading:  70.0\n",
      "Mediana Writing:  69.0\n",
      "Moda Math:  ModeResult(mode=65, count=36)\n",
      "Moda Reading:  ModeResult(mode=72, count=34)\n",
      "Moda Writing:  ModeResult(mode=74, count=35)\n"
     ]
    }
   ],
   "source": [
    "# Medidas de Posição\n",
    "\n",
    "# Média\n",
    "mediaMath = np.mean(df['math score'])\n",
    "mediaReading = np.mean(df['reading score'])\n",
    "mediaWriting = np.mean(df['writing score'])\n",
    "\n",
    "#Mediana\n",
    "medianaMath = np.median(df['math score'])\n",
    "medianaReading = np.median(df['reading score'])\n",
    "medianaWriting = np.median(df['writing score'])\n",
    "\n",
    "#Moda\n",
    "modaMath = stats.mode(df['math score'])\n",
    "modaReading = stats.mode(df['reading score'])\n",
    "modaWriting = stats.mode(df['writing score'])\n",
    "\n",
    "print('Média Math: ', mediaMath)\n",
    "print('Média Reading: ', mediaReading)\n",
    "print('Média Writing: ', mediaWriting)\n",
    "\n",
    "print('Mediana Math: ', medianaMath)\n",
    "print('Mediana Reading: ', medianaReading)\n",
    "print('Mediana Writing: ', medianaWriting)\n",
    "\n",
    "print('Moda Math: ', modaMath)\n",
    "print('Moda Reading: ', modaReading)\n",
    "print('Moda Writing: ', modaWriting)"
   ]
  },
  {
   "cell_type": "code",
   "execution_count": 22,
   "metadata": {},
   "outputs": [
    {
     "name": "stdout",
     "output_type": "stream",
     "text": [
      "Percentil Math:  57.0 66.0 77.0\n",
      "IQR Math:  20.0\n",
      "Percentil Reading:  59.0 70.0 79.0\n",
      "IQR Reading:  20.0\n",
      "Percentil Writing:  57.75 69.0 79.0\n",
      "IQR Writing:  21.25\n"
     ]
    }
   ],
   "source": [
    "# Medidas de Dispersão\n",
    "\n",
    "# Percentil\n",
    "Q1Math = df['math score'].quantile(0.25)\n",
    "Q2Math = df['math score'].quantile(0.50)\n",
    "Q3Math = df['math score'].quantile(0.75)\n",
    "IQRMath = Q3Math - Q1Math\n",
    "\n",
    "Q1Reading = df['reading score'].quantile(0.25)\n",
    "Q2Reading = df['reading score'].quantile(0.50)\n",
    "Q3Reading = df['reading score'].quantile(0.75)\n",
    "IQRReading = Q3Reading - Q1Reading\n",
    "\n",
    "Q1Writing = df['writing score'].quantile(0.25)\n",
    "Q2Writing = df['writing score'].quantile(0.50)\n",
    "Q3Writing = df['writing score'].quantile(0.75)\n",
    "IQRWriting = Q3Writing - Q1Writing\n",
    "\n",
    "\n",
    "print('Percentil Math: ', Q1Math, Q2Math, Q3Math)\n",
    "print('IQR Math: ', IQRMath)\n",
    "print('Percentil Reading: ', Q1Reading, Q2Reading, Q3Reading)\n",
    "print('IQR Reading: ', IQRReading)\n",
    "print('Percentil Writing: ', Q1Writing, Q2Writing, Q3Writing)\n",
    "print('IQR Writing: ', IQRWriting)\n"
   ]
  },
  {
   "cell_type": "code",
   "execution_count": 13,
   "metadata": {},
   "outputs": [
    {
     "name": "stdout",
     "output_type": "stream",
     "text": [
      "Desvio Padrão Math:  15.16308009600945\n",
      "Desvio Padrão Reading:  14.600191937252216\n",
      "Desvio Padrão Writing:  15.19565701086965\n",
      "\n",
      "\n",
      "Variância Math:  229.91899799799796\n",
      "Variância Reading:  213.16560460460462\n",
      "Variância Writing:  230.907991991992\n"
     ]
    }
   ],
   "source": [
    "# Desvio Padrão\n",
    "\n",
    "stdMath = df['math score'].std()\n",
    "stdReading = df['reading score'].std()\n",
    "stdWriting = df['writing score'].std()\n",
    "\n",
    "# Variância\n",
    "varMath = df['math score'].var()\n",
    "varReading = df['reading score'].var()\n",
    "varWriting = df['writing score'].var()\n",
    "\n",
    "print('Desvio Padrão Math: ', stdMath)\n",
    "print('Desvio Padrão Reading: ', stdReading)\n",
    "print('Desvio Padrão Writing: ', stdWriting)\n",
    "print('\\n')\n",
    "\n",
    "print('Variância Math: ', varMath)\n",
    "print('Variância Reading: ', varReading)\n",
    "print('Variância Writing: ', varWriting)"
   ]
  },
  {
   "cell_type": "code",
   "execution_count": 15,
   "metadata": {},
   "outputs": [
    {
     "name": "stdout",
     "output_type": "stream",
     "text": [
      "\n",
      "Z-Score Math: \n",
      " 0      0.390024\n",
      "1      0.192076\n",
      "2      1.577711\n",
      "3     -1.259543\n",
      "4      0.653954\n",
      "         ...   \n",
      "995    1.445746\n",
      "996   -0.269803\n",
      "997   -0.467751\n",
      "998    0.126093\n",
      "999    0.719937\n",
      "Name: math score, Length: 1000, dtype: float64\n",
      "\n",
      "Z-Score Reading: \n",
      " 0      0.193999\n",
      "1      1.427476\n",
      "2      1.770109\n",
      "3     -0.833899\n",
      "4      0.605158\n",
      "         ...   \n",
      "995    2.044215\n",
      "996   -0.970952\n",
      "997    0.125472\n",
      "998    0.605158\n",
      "999    1.153370\n",
      "Name: reading score, Length: 1000, dtype: float64\n",
      "\n",
      "Z-Score Writing: \n",
      " 0      0.391492\n",
      "1      1.313269\n",
      "2      1.642475\n",
      "3     -1.583744\n",
      "4      0.457333\n",
      "         ...   \n",
      "995    1.774157\n",
      "996   -0.859491\n",
      "997   -0.201079\n",
      "998    0.589015\n",
      "999    1.181586\n",
      "Name: writing score, Length: 1000, dtype: float64\n"
     ]
    }
   ],
   "source": [
    "# Z-Score\n",
    "zMath = stats.zscore(df['math score'])\n",
    "zReading = stats.zscore(df['reading score'])\n",
    "zWriting = stats.zscore(df['writing score'])\n",
    "\n",
    "print('\\nZ-Score Math: \\n', zMath)\n",
    "print('\\nZ-Score Reading: \\n', zReading)\n",
    "print('\\nZ-Score Writing: \\n', zWriting)"
   ]
  },
  {
   "cell_type": "markdown",
   "metadata": {},
   "source": [
    "## Histogramas e Boxplots"
   ]
  },
  {
   "cell_type": "code",
   "execution_count": 21,
   "metadata": {},
   "outputs": [
    {
     "data": {
      "image/png": "[encoded data removed]",
      "text/plain": [
       "<Figure size 640x480 with 1 Axes>"
      ]
     },
     "metadata": {},
     "output_type": "display_data"
    },
    {
     "data": {
      "image/png": "[encoded data removed]",
      "text/plain": [
       "<Figure size 640x480 with 1 Axes>"
      ]
     },
     "metadata": {},
     "output_type": "display_data"
    }
   ],
   "source": [
    "# Boxplot Math\n",
    "\n",
    "plt.boxplot(df['math score'])\n",
    "plt.title('Math Score')\n",
    "plt.show()\n",
    "\n",
    "# Histograma Math\n",
    "\n",
    "plt.hist(df['math score'], bins=10)\n",
    "plt.title('Math Score')\n",
    "plt.show()"
   ]
  },
  {
   "cell_type": "code",
   "execution_count": 20,
   "metadata": {},
   "outputs": [
    {
     "data": {
      "image/png": "[encoded data removed]",
      "text/plain": [
       "<Figure size 640x480 with 1 Axes>"
      ]
     },
     "metadata": {},
     "output_type": "display_data"
    },
    {
     "data": {
      "image/png": "[encoded data removed]",
      "text/plain": [
       "<Figure size 640x480 with 1 Axes>"
      ]
     },
     "metadata": {},
     "output_type": "display_data"
    }
   ],
   "source": [
    "# Boxplot Reading\n",
    "\n",
    "plt.boxplot(df['reading score'])\n",
    "plt.title('Reading Score')\n",
    "plt.show()\n",
    "\n",
    "# Histograma Reading\n",
    "\n",
    "plt.hist(df['reading score'], bins=10)\n",
    "plt.title('Reading Score')\n",
    "plt.show()"
   ]
  },
  {
   "cell_type": "code",
   "execution_count": 19,
   "metadata": {},
   "outputs": [
    {
     "data": {
      "image/png": "[encoded data removed]",
      "text/plain": [
       "<Figure size 640x480 with 1 Axes>"
      ]
     },
     "metadata": {},
     "output_type": "display_data"
    },
    {
     "data": {
      "image/png": "[encoded data removed]",
      "text/plain": [
       "<Figure size 640x480 with 1 Axes>"
      ]
     },
     "metadata": {},
     "output_type": "display_data"
    }
   ],
   "source": [
    "# Boxplot Writing\n",
    "\n",
    "plt.boxplot(df['writing score'])\n",
    "plt.title('Writing Score')\n",
    "plt.show()\n",
    "\n",
    "# Histograma Writing\n",
    "\n",
    "plt.hist(df['writing score'], bins=10)\n",
    "plt.title('Writing Score')\n",
    "plt.show()"
   ]
  },
  {
   "cell_type": "markdown",
   "metadata": {},
   "source": [
    "## Outliers"
   ]
  },
  {
   "cell_type": "code",
   "execution_count": 28,
   "metadata": {},
   "outputs": [
    {
     "name": "stdout",
     "output_type": "stream",
     "text": [
      "Outliers Math:  []\n",
      "Outliers Reading:  []\n",
      "Outliers Writing:  []\n"
     ]
    }
   ],
   "source": [
    "# Encontrando Outliers\n",
    "\n",
    "# Usando Z-Score\n",
    "\n",
    "thresholdZ = 3\n",
    "indexOutliersMath = np.where(zMath > thresholdZ)[0]\n",
    "indexOutliersReading = np.where(zReading > thresholdZ)[0]\n",
    "indexOutliersWriting = np.where(zWriting > thresholdZ)[0]\n",
    "\n",
    "print('Outliers Math: ', indexOutliersMath)\n",
    "print('Outliers Reading: ', indexOutliersReading)\n",
    "print('Outliers Writing: ', indexOutliersWriting)"
   ]
  },
  {
   "cell_type": "code",
   "execution_count": 34,
   "metadata": {},
   "outputs": [
    {
     "name": "stdout",
     "output_type": "stream",
     "text": [
      "Upper and Lower Bound Math:  107.0 27.0\n",
      "Outliers Math IQR:  [ 17  59  91 145 338 363 466 787 842 980]\n",
      "\n",
      "\n",
      "Upper and Lower Bound Reading:  109.0 29.0\n",
      "Outliers Reading IQR:  [ 59  76 211 327 596 601 896 980]\n",
      "\n",
      "\n",
      "Upper and Lower Bound Writing:  110.875 25.875\n",
      "Outliers Writing IQR:  [ 59  76 327 596 980]\n"
     ]
    }
   ],
   "source": [
    "# Usando IQR\n",
    "\n",
    "upperBoundMath = Q3Math + 1.5 * IQRMath\n",
    "lowerBoundMath = Q1Math - 1.5 * IQRMath\n",
    "\n",
    "upperBoundReading = Q3Reading + 1.5 * IQRReading\n",
    "lowerBoundReading = Q1Reading - 1.5 * IQRReading\n",
    "\n",
    "upperBoundWriting = Q3Writing + 1.5 * IQRWriting\n",
    "lowerBoundWriting = Q1Writing - 1.5 * IQRWriting\n",
    "\n",
    "indexOutliersMathIQR = np.where((df['math score'] >= upperBoundMath) | (df['math score'] <= lowerBoundMath))[0]\n",
    "indexOutliersReadingIQR = np.where((df['reading score'] >= upperBoundReading) | (df['reading score'] <= lowerBoundReading))[0]\n",
    "indexOutliersWritingIQR = np.where((df['writing score'] >= upperBoundWriting) | (df['writing score'] <= lowerBoundWriting))[0]\n",
    "\n",
    "print('Upper and Lower Bound Math: ', upperBoundMath, lowerBoundMath)\n",
    "print('Outliers Math IQR: ', indexOutliersMathIQR)\n",
    "print('\\n')\n",
    "\n",
    "print('Upper and Lower Bound Reading: ', upperBoundReading, lowerBoundReading)\n",
    "print('Outliers Reading IQR: ', indexOutliersReadingIQR)\n",
    "print('\\n')\n",
    "\n",
    "print('Upper and Lower Bound Writing: ', upperBoundWriting, lowerBoundWriting)\n",
    "print('Outliers Writing IQR: ', indexOutliersWritingIQR)"
   ]
  },
  {
   "cell_type": "markdown",
   "metadata": {},
   "source": [
    "### Remoção de Outliers"
   ]
  },
  {
   "cell_type": "code",
   "execution_count": 37,
   "metadata": {},
   "outputs": [],
   "source": [
    "# Teste de Remoção de Outliers IQR (Math, Reading e Writing)\n",
    "\n",
    "dfMath = df.drop(indexOutliersMathIQR)\n",
    "dfReading = df.drop(indexOutliersReadingIQR)\n",
    "dfWriting = df.drop(indexOutliersWritingIQR)"
   ]
  },
  {
   "cell_type": "code",
   "execution_count": 43,
   "metadata": {},
   "outputs": [
    {
     "name": "stdout",
     "output_type": "stream",
     "text": [
      "Shape Math:  (990, 8)\n",
      "Shape Reading:  (992, 8)\n",
      "Shape Writing:  (995, 8)\n"
     ]
    }
   ],
   "source": [
    "print('Shape Math: ', dfMath.shape)\n",
    "print('Shape Reading: ', dfReading.shape)\n",
    "print('Shape Writing: ', dfWriting.shape)"
   ]
  },
  {
   "cell_type": "code",
   "execution_count": 48,
   "metadata": {},
   "outputs": [
    {
     "name": "stdout",
     "output_type": "stream",
     "text": [
      "Nova Média Math:  66.56060606060606\n",
      "Diferença Média Math:  0.4716060606060637\n",
      "Nova Média Reading:  69.52520161290323\n",
      "Diferença Média Reading:  0.3562016129032344\n",
      "Nova Média Writing:  68.30653266331659\n",
      "Diferença Média Writing:  0.2525326633165861\n",
      "\n",
      "\n",
      "Nova Mediana Math:  66.0\n",
      "Diferença Mediana Math:  0.0\n",
      "Nova Mediana Reading:  70.0\n",
      "Diferença Mediana Reading:  0.0\n",
      "Nova Mediana Writing:  69.0\n",
      "Diferença Mediana Writing:  0.0\n",
      "\n",
      "\n",
      "Nova Moda Math:  ModeResult(mode=65, count=36)\n",
      "Moda Math:  ModeResult(mode=65, count=36)\n",
      "Nova Moda Reading:  ModeResult(mode=72, count=34)\n",
      "Moda Reading:  ModeResult(mode=72, count=34)\n",
      "Nova Moda Writing:  ModeResult(mode=74, count=35)\n",
      "Moda Writing:  ModeResult(mode=74, count=35)\n"
     ]
    }
   ],
   "source": [
    "# Alterações\n",
    "\n",
    "# Medidas de Posição\n",
    "\n",
    "# Média\n",
    "newMediaMath = np.mean(dfMath['math score'])\n",
    "newMediaReading = np.mean(dfReading['reading score'])\n",
    "newMediaWriting = np.mean(dfWriting['writing score'])\n",
    "\n",
    "#Mediana\n",
    "newMedianaMath = np.median(dfMath['math score'])\n",
    "newMedianaReading = np.median(dfReading['reading score'])\n",
    "newMedianaWriting = np.median(dfWriting['writing score'])\n",
    "\n",
    "#Moda\n",
    "newModaMath = stats.mode(dfMath['math score'])\n",
    "newModaReading = stats.mode(dfReading['reading score'])\n",
    "newModaWriting = stats.mode(dfWriting['writing score'])\n",
    "\n",
    "print('Nova Média Math: ', newMediaMath)\n",
    "print('Diferença Média Math: ', newMediaMath - mediaMath)\n",
    "print('Nova Média Reading: ', newMediaReading)\n",
    "print('Diferença Média Reading: ', newMediaReading - mediaReading)\n",
    "print('Nova Média Writing: ', newMediaWriting)\n",
    "print('Diferença Média Writing: ', newMediaWriting - mediaWriting)\n",
    "print('\\n')\n",
    "print('Nova Mediana Math: ', newMedianaMath)\n",
    "print('Diferença Mediana Math: ', newMedianaMath - medianaMath)\n",
    "print('Nova Mediana Reading: ', newMedianaReading)\n",
    "print('Diferença Mediana Reading: ', newMedianaReading - medianaReading)\n",
    "print('Nova Mediana Writing: ', newMedianaWriting)\n",
    "print('Diferença Mediana Writing: ', newMedianaWriting - medianaWriting)\n",
    "print('\\n')\n",
    "print('Nova Moda Math: ', newModaMath)\n",
    "print('Moda Math: ', modaMath)\n",
    "print('Nova Moda Reading: ', newModaReading)\n",
    "print('Moda Reading: ', modaReading)\n",
    "print('Nova Moda Writing: ', newModaWriting)\n",
    "print('Moda Writing: ', modaWriting)\n"
   ]
  },
  {
   "cell_type": "code",
   "execution_count": 50,
   "metadata": {},
   "outputs": [
    {
     "name": "stdout",
     "output_type": "stream",
     "text": [
      "Novo Percentil Math:  57.0 66.0 77.0\n",
      "Percentil Math:  57.0 66.0 77.0\n",
      "Diferença IQR Math:  0.0\n",
      "\n",
      "\n",
      "Novo Percentil Reading:  60.0 70.0 80.0\n",
      "Percentil Reading:  59.0 70.0 79.0\n",
      "Diferença IQR Reading:  0.0\n",
      "\n",
      "\n",
      "Novo Percentil Writing:  58.0 69.0 79.0\n",
      "Percentil Writing:  57.75 69.0 79.0\n",
      "Diferença IQR Writing:  -0.25\n"
     ]
    }
   ],
   "source": [
    "# Medidas de Dispersão\n",
    "\n",
    "# Percentil\n",
    "newQ1Math = dfMath['math score'].quantile(0.25)\n",
    "newQ2Math = dfMath['math score'].quantile(0.50)\n",
    "newQ3Math = dfMath['math score'].quantile(0.75)\n",
    "newIQRMath = newQ3Math - newQ1Math\n",
    "\n",
    "newQ1Reading = dfReading['reading score'].quantile(0.25)\n",
    "newQ2Reading = dfReading['reading score'].quantile(0.50)\n",
    "newQ3Reading = dfReading['reading score'].quantile(0.75)\n",
    "newIQRReading = newQ3Reading - newQ1Reading\n",
    "\n",
    "newQ1Writing = dfWriting['writing score'].quantile(0.25)\n",
    "newQ2Writing = dfWriting['writing score'].quantile(0.50)\n",
    "newQ3Writing = dfWriting['writing score'].quantile(0.75)\n",
    "newIQRWriting = newQ3Writing - newQ1Writing\n",
    "\n",
    "print('Novo Percentil Math: ', newQ1Math, newQ2Math, newQ3Math)\n",
    "print('Percentil Math: ', Q1Math, Q2Math, Q3Math)\n",
    "print('Diferença IQR Math: ', newIQRMath - IQRMath)\n",
    "print('\\n')\n",
    "print('Novo Percentil Reading: ', newQ1Reading, newQ2Reading, newQ3Reading)\n",
    "print('Percentil Reading: ', Q1Reading, Q2Reading, Q3Reading)\n",
    "print('Diferença IQR Reading: ', newIQRReading - IQRReading)\n",
    "print('\\n')\n",
    "print('Novo Percentil Writing: ', newQ1Writing, newQ2Writing, newQ3Writing)\n",
    "print('Percentil Writing: ', Q1Writing, Q2Writing, Q3Writing)\n",
    "print('Diferença IQR Writing: ', newIQRWriting - IQRWriting)\n"
   ]
  },
  {
   "cell_type": "code",
   "execution_count": 54,
   "metadata": {},
   "outputs": [
    {
     "name": "stdout",
     "output_type": "stream",
     "text": [
      "Novo Desvio Padrão Math:  14.465951923462725\n",
      "Desvio Padrão Math:  15.16308009600945\n",
      "Diferença Desvio Padrão Math:  -0.6971281725467247\n",
      "\n",
      "\n",
      "Novo Desvio Padrão Reading:  14.103100615911385\n",
      "Desvio Padrão Reading:  14.600191937252216\n",
      "Diferença Desvio Padrão Reading:  -0.49709132134083056\n",
      "\n",
      "\n",
      "Novo Desvio Padrão Writing:  14.804952796327903\n",
      "Desvio Padrão Writing:  15.19565701086965\n",
      "Diferença Desvio Padrão Writing:  -0.3907042145417474\n",
      "\n",
      "\n",
      "Nova Variância Math:  209.26376505193494\n",
      "Variância Math:  229.91899799799796\n",
      "Diferença Variância Math:  -20.655232946063023\n",
      "\n",
      "\n",
      "Nova Variância Reading:  198.8974469825201\n",
      "Variância Reading:  213.16560460460462\n",
      "Diferença Variância Reading:  -14.268157622084516\n",
      "\n",
      "\n",
      "Nova Variância Writing:  219.1866273014974\n",
      "Variância Writing:  230.907991991992\n",
      "Diferença Variância Writing:  -11.721364690494596\n"
     ]
    }
   ],
   "source": [
    "# Desvio Padrão\n",
    "\n",
    "newStdMath = dfMath['math score'].std()\n",
    "newStdReading = dfReading['reading score'].std()\n",
    "newStdWriting = dfWriting['writing score'].std()\n",
    "\n",
    "# Variância\n",
    "newVarMath = dfMath['math score'].var()\n",
    "newVarReading = dfReading['reading score'].var()\n",
    "newVarWriting = dfWriting['writing score'].var()\n",
    "\n",
    "print('Novo Desvio Padrão Math: ', newStdMath)\n",
    "print('Desvio Padrão Math: ', stdMath)\n",
    "print('Diferença Desvio Padrão Math: ', newStdMath - stdMath)\n",
    "print('\\n')\n",
    "print('Novo Desvio Padrão Reading: ', newStdReading)\n",
    "print('Desvio Padrão Reading: ', stdReading)\n",
    "print('Diferença Desvio Padrão Reading: ', newStdReading - stdReading)\n",
    "print('\\n')\n",
    "print('Novo Desvio Padrão Writing: ', newStdWriting)\n",
    "print('Desvio Padrão Writing: ', stdWriting)\n",
    "print('Diferença Desvio Padrão Writing: ', newStdWriting - stdWriting)\n",
    "print('\\n')\n",
    "\n",
    "print('Nova Variância Math: ', newVarMath)\n",
    "print('Variância Math: ', varMath)\n",
    "print('Diferença Variância Math: ', newVarMath - varMath)\n",
    "print('\\n')\n",
    "print('Nova Variância Reading: ', newVarReading)\n",
    "print('Variância Reading: ', varReading)\n",
    "print('Diferença Variância Reading: ', newVarReading - varReading)\n",
    "print('\\n')\n",
    "print('Nova Variância Writing: ', newVarWriting)\n",
    "print('Variância Writing: ', varWriting)\n",
    "print('Diferença Variância Writing: ', newVarWriting - varWriting)"
   ]
  },
  {
   "cell_type": "markdown",
   "metadata": {},
   "source": [
    "## Transformação de Dados Numéricos"
   ]
  },
  {
   "cell_type": "markdown",
   "metadata": {},
   "source": [
    "### Normalização"
   ]
  },
  {
   "cell_type": "code",
   "execution_count": 61,
   "metadata": {},
   "outputs": [
    {
     "data": {
      "text/html": [
       "<div>\n",
       "<style scoped>\n",
       "    .dataframe tbody tr th:only-of-type {\n",
       "        vertical-align: middle;\n",
       "    }\n",
       "\n",
       "    .dataframe tbody tr th {\n",
       "        vertical-align: top;\n",
       "    }\n",
       "\n",
       "    .dataframe thead th {\n",
       "        text-align: right;\n",
       "    }\n",
       "</style>\n",
       "<table border=\"1\" class=\"dataframe\">\n",
       "  <thead>\n",
       "    <tr style=\"text-align: right;\">\n",
       "      <th></th>\n",
       "      <th>gender</th>\n",
       "      <th>race/ethnicity</th>\n",
       "      <th>parental level of education</th>\n",
       "      <th>lunch</th>\n",
       "      <th>test preparation course</th>\n",
       "      <th>math score</th>\n",
       "      <th>reading score</th>\n",
       "      <th>writing score</th>\n",
       "    </tr>\n",
       "  </thead>\n",
       "  <tbody>\n",
       "    <tr>\n",
       "      <th>0</th>\n",
       "      <td>female</td>\n",
       "      <td>group B</td>\n",
       "      <td>bachelor's degree</td>\n",
       "      <td>standard</td>\n",
       "      <td>none</td>\n",
       "      <td>0.72</td>\n",
       "      <td>0.662651</td>\n",
       "      <td>0.711111</td>\n",
       "    </tr>\n",
       "    <tr>\n",
       "      <th>1</th>\n",
       "      <td>female</td>\n",
       "      <td>group C</td>\n",
       "      <td>some college</td>\n",
       "      <td>standard</td>\n",
       "      <td>completed</td>\n",
       "      <td>0.69</td>\n",
       "      <td>0.879518</td>\n",
       "      <td>0.866667</td>\n",
       "    </tr>\n",
       "    <tr>\n",
       "      <th>2</th>\n",
       "      <td>female</td>\n",
       "      <td>group B</td>\n",
       "      <td>master's degree</td>\n",
       "      <td>standard</td>\n",
       "      <td>none</td>\n",
       "      <td>0.90</td>\n",
       "      <td>0.939759</td>\n",
       "      <td>0.922222</td>\n",
       "    </tr>\n",
       "    <tr>\n",
       "      <th>3</th>\n",
       "      <td>male</td>\n",
       "      <td>group A</td>\n",
       "      <td>associate's degree</td>\n",
       "      <td>free/reduced</td>\n",
       "      <td>none</td>\n",
       "      <td>0.47</td>\n",
       "      <td>0.481928</td>\n",
       "      <td>0.377778</td>\n",
       "    </tr>\n",
       "    <tr>\n",
       "      <th>4</th>\n",
       "      <td>male</td>\n",
       "      <td>group C</td>\n",
       "      <td>some college</td>\n",
       "      <td>standard</td>\n",
       "      <td>none</td>\n",
       "      <td>0.76</td>\n",
       "      <td>0.734940</td>\n",
       "      <td>0.722222</td>\n",
       "    </tr>\n",
       "  </tbody>\n",
       "</table>\n",
       "</div>"
      ],
      "text/plain": [
       "   gender race/ethnicity parental level of education         lunch  \\\n",
       "0  female        group B           bachelor's degree      standard   \n",
       "1  female        group C                some college      standard   \n",
       "2  female        group B             master's degree      standard   \n",
       "3    male        group A          associate's degree  free/reduced   \n",
       "4    male        group C                some college      standard   \n",
       "\n",
       "  test preparation course  math score  reading score  writing score  \n",
       "0                    none        0.72       0.662651       0.711111  \n",
       "1               completed        0.69       0.879518       0.866667  \n",
       "2                    none        0.90       0.939759       0.922222  \n",
       "3                    none        0.47       0.481928       0.377778  \n",
       "4                    none        0.76       0.734940       0.722222  "
      ]
     },
     "execution_count": 61,
     "metadata": {},
     "output_type": "execute_result"
    }
   ],
   "source": [
    "scaler = MinMaxScaler()\n",
    "dfNorm = df.copy()\n",
    "dfNorm[['math score', 'reading score', 'writing score']] = scaler.fit_transform(df[['math score', 'reading score', 'writing score']])\n",
    "dfNorm.head()"
   ]
  },
  {
   "cell_type": "markdown",
   "metadata": {},
   "source": [
    "### Padronização"
   ]
  },
  {
   "cell_type": "code",
   "execution_count": 62,
   "metadata": {},
   "outputs": [
    {
     "data": {
      "text/html": [
       "<div>\n",
       "<style scoped>\n",
       "    .dataframe tbody tr th:only-of-type {\n",
       "        vertical-align: middle;\n",
       "    }\n",
       "\n",
       "    .dataframe tbody tr th {\n",
       "        vertical-align: top;\n",
       "    }\n",
       "\n",
       "    .dataframe thead th {\n",
       "        text-align: right;\n",
       "    }\n",
       "</style>\n",
       "<table border=\"1\" class=\"dataframe\">\n",
       "  <thead>\n",
       "    <tr style=\"text-align: right;\">\n",
       "      <th></th>\n",
       "      <th>gender</th>\n",
       "      <th>race/ethnicity</th>\n",
       "      <th>parental level of education</th>\n",
       "      <th>lunch</th>\n",
       "      <th>test preparation course</th>\n",
       "      <th>math score</th>\n",
       "      <th>reading score</th>\n",
       "      <th>writing score</th>\n",
       "    </tr>\n",
       "  </thead>\n",
       "  <tbody>\n",
       "    <tr>\n",
       "      <th>0</th>\n",
       "      <td>female</td>\n",
       "      <td>group B</td>\n",
       "      <td>bachelor's degree</td>\n",
       "      <td>standard</td>\n",
       "      <td>none</td>\n",
       "      <td>0.390024</td>\n",
       "      <td>0.193999</td>\n",
       "      <td>0.391492</td>\n",
       "    </tr>\n",
       "    <tr>\n",
       "      <th>1</th>\n",
       "      <td>female</td>\n",
       "      <td>group C</td>\n",
       "      <td>some college</td>\n",
       "      <td>standard</td>\n",
       "      <td>completed</td>\n",
       "      <td>0.192076</td>\n",
       "      <td>1.427476</td>\n",
       "      <td>1.313269</td>\n",
       "    </tr>\n",
       "    <tr>\n",
       "      <th>2</th>\n",
       "      <td>female</td>\n",
       "      <td>group B</td>\n",
       "      <td>master's degree</td>\n",
       "      <td>standard</td>\n",
       "      <td>none</td>\n",
       "      <td>1.577711</td>\n",
       "      <td>1.770109</td>\n",
       "      <td>1.642475</td>\n",
       "    </tr>\n",
       "    <tr>\n",
       "      <th>3</th>\n",
       "      <td>male</td>\n",
       "      <td>group A</td>\n",
       "      <td>associate's degree</td>\n",
       "      <td>free/reduced</td>\n",
       "      <td>none</td>\n",
       "      <td>-1.259543</td>\n",
       "      <td>-0.833899</td>\n",
       "      <td>-1.583744</td>\n",
       "    </tr>\n",
       "    <tr>\n",
       "      <th>4</th>\n",
       "      <td>male</td>\n",
       "      <td>group C</td>\n",
       "      <td>some college</td>\n",
       "      <td>standard</td>\n",
       "      <td>none</td>\n",
       "      <td>0.653954</td>\n",
       "      <td>0.605158</td>\n",
       "      <td>0.457333</td>\n",
       "    </tr>\n",
       "  </tbody>\n",
       "</table>\n",
       "</div>"
      ],
      "text/plain": [
       "   gender race/ethnicity parental level of education         lunch  \\\n",
       "0  female        group B           bachelor's degree      standard   \n",
       "1  female        group C                some college      standard   \n",
       "2  female        group B             master's degree      standard   \n",
       "3    male        group A          associate's degree  free/reduced   \n",
       "4    male        group C                some college      standard   \n",
       "\n",
       "  test preparation course  math score  reading score  writing score  \n",
       "0                    none    0.390024       0.193999       0.391492  \n",
       "1               completed    0.192076       1.427476       1.313269  \n",
       "2                    none    1.577711       1.770109       1.642475  \n",
       "3                    none   -1.259543      -0.833899      -1.583744  \n",
       "4                    none    0.653954       0.605158       0.457333  "
      ]
     },
     "execution_count": 62,
     "metadata": {},
     "output_type": "execute_result"
    }
   ],
   "source": [
    "scaler = StandardScaler()\n",
    "dfStand = df.copy()\n",
    "dfStand[['math score', 'reading score', 'writing score']] = scaler.fit_transform(df[['math score', 'reading score', 'writing score']])\n",
    "dfStand.head()"
   ]
  },
  {
   "cell_type": "markdown",
   "metadata": {},
   "source": [
    "### IQR "
   ]
  },
  {
   "cell_type": "code",
   "execution_count": 63,
   "metadata": {},
   "outputs": [
    {
     "data": {
      "text/html": [
       "<div>\n",
       "<style scoped>\n",
       "    .dataframe tbody tr th:only-of-type {\n",
       "        vertical-align: middle;\n",
       "    }\n",
       "\n",
       "    .dataframe tbody tr th {\n",
       "        vertical-align: top;\n",
       "    }\n",
       "\n",
       "    .dataframe thead th {\n",
       "        text-align: right;\n",
       "    }\n",
       "</style>\n",
       "<table border=\"1\" class=\"dataframe\">\n",
       "  <thead>\n",
       "    <tr style=\"text-align: right;\">\n",
       "      <th></th>\n",
       "      <th>gender</th>\n",
       "      <th>race/ethnicity</th>\n",
       "      <th>parental level of education</th>\n",
       "      <th>lunch</th>\n",
       "      <th>test preparation course</th>\n",
       "      <th>math score</th>\n",
       "      <th>reading score</th>\n",
       "      <th>writing score</th>\n",
       "    </tr>\n",
       "  </thead>\n",
       "  <tbody>\n",
       "    <tr>\n",
       "      <th>0</th>\n",
       "      <td>female</td>\n",
       "      <td>group B</td>\n",
       "      <td>bachelor's degree</td>\n",
       "      <td>standard</td>\n",
       "      <td>none</td>\n",
       "      <td>0.30</td>\n",
       "      <td>0.10</td>\n",
       "      <td>0.235294</td>\n",
       "    </tr>\n",
       "    <tr>\n",
       "      <th>1</th>\n",
       "      <td>female</td>\n",
       "      <td>group C</td>\n",
       "      <td>some college</td>\n",
       "      <td>standard</td>\n",
       "      <td>completed</td>\n",
       "      <td>0.15</td>\n",
       "      <td>1.00</td>\n",
       "      <td>0.894118</td>\n",
       "    </tr>\n",
       "    <tr>\n",
       "      <th>2</th>\n",
       "      <td>female</td>\n",
       "      <td>group B</td>\n",
       "      <td>master's degree</td>\n",
       "      <td>standard</td>\n",
       "      <td>none</td>\n",
       "      <td>1.20</td>\n",
       "      <td>1.25</td>\n",
       "      <td>1.129412</td>\n",
       "    </tr>\n",
       "    <tr>\n",
       "      <th>3</th>\n",
       "      <td>male</td>\n",
       "      <td>group A</td>\n",
       "      <td>associate's degree</td>\n",
       "      <td>free/reduced</td>\n",
       "      <td>none</td>\n",
       "      <td>-0.95</td>\n",
       "      <td>-0.65</td>\n",
       "      <td>-1.176471</td>\n",
       "    </tr>\n",
       "    <tr>\n",
       "      <th>4</th>\n",
       "      <td>male</td>\n",
       "      <td>group C</td>\n",
       "      <td>some college</td>\n",
       "      <td>standard</td>\n",
       "      <td>none</td>\n",
       "      <td>0.50</td>\n",
       "      <td>0.40</td>\n",
       "      <td>0.282353</td>\n",
       "    </tr>\n",
       "  </tbody>\n",
       "</table>\n",
       "</div>"
      ],
      "text/plain": [
       "   gender race/ethnicity parental level of education         lunch  \\\n",
       "0  female        group B           bachelor's degree      standard   \n",
       "1  female        group C                some college      standard   \n",
       "2  female        group B             master's degree      standard   \n",
       "3    male        group A          associate's degree  free/reduced   \n",
       "4    male        group C                some college      standard   \n",
       "\n",
       "  test preparation course  math score  reading score  writing score  \n",
       "0                    none        0.30           0.10       0.235294  \n",
       "1               completed        0.15           1.00       0.894118  \n",
       "2                    none        1.20           1.25       1.129412  \n",
       "3                    none       -0.95          -0.65      -1.176471  \n",
       "4                    none        0.50           0.40       0.282353  "
      ]
     },
     "execution_count": 63,
     "metadata": {},
     "output_type": "execute_result"
    }
   ],
   "source": [
    "scaler = RobustScaler()\n",
    "dfRobust = df.copy()\n",
    "dfRobust[['math score', 'reading score', 'writing score']] = scaler.fit_transform(df[['math score', 'reading score', 'writing score']])\n",
    "dfRobust.head()\n"
   ]
  },
  {
   "cell_type": "markdown",
   "metadata": {},
   "source": [
    "## Transformação de Dados Categóricos"
   ]
  },
  {
   "cell_type": "markdown",
   "metadata": {},
   "source": [
    "### Codificação Ordinal"
   ]
  },
  {
   "cell_type": "code",
   "execution_count": 72,
   "metadata": {},
   "outputs": [
    {
     "data": {
      "text/plain": [
       "[array(['female', 'male'], dtype=object),\n",
       " array(['group A', 'group B', 'group C', 'group D', 'group E'],\n",
       "       dtype=object),\n",
       " array([\"associate's degree\", \"bachelor's degree\", 'high school',\n",
       "        \"master's degree\", 'some college', 'some high school'],\n",
       "       dtype=object),\n",
       " array(['free/reduced', 'standard'], dtype=object),\n",
       " array(['completed', 'none'], dtype=object)]"
      ]
     },
     "execution_count": 72,
     "metadata": {},
     "output_type": "execute_result"
    }
   ],
   "source": [
    "# Cria o codificador\n",
    "lb = OrdinalEncoder()\n",
    "dfOrdinal = df.copy()\n",
    "\n",
    "# Aplica o codificador\n",
    "dfOrdinal[['gender', 'race/ethnicity', 'parental level of education', 'lunch', 'test preparation course']] = lb.fit_transform(dfOrdinal[['gender', 'race/ethnicity', 'parental level of education', 'lunch', 'test preparation course']])\n",
    "lb.categories_"
   ]
  },
  {
   "cell_type": "code",
   "execution_count": 73,
   "metadata": {},
   "outputs": [
    {
     "data": {
      "text/html": [
       "<div>\n",
       "<style scoped>\n",
       "    .dataframe tbody tr th:only-of-type {\n",
       "        vertical-align: middle;\n",
       "    }\n",
       "\n",
       "    .dataframe tbody tr th {\n",
       "        vertical-align: top;\n",
       "    }\n",
       "\n",
       "    .dataframe thead th {\n",
       "        text-align: right;\n",
       "    }\n",
       "</style>\n",
       "<table border=\"1\" class=\"dataframe\">\n",
       "  <thead>\n",
       "    <tr style=\"text-align: right;\">\n",
       "      <th></th>\n",
       "      <th>gender</th>\n",
       "      <th>race/ethnicity</th>\n",
       "      <th>parental level of education</th>\n",
       "      <th>lunch</th>\n",
       "      <th>test preparation course</th>\n",
       "      <th>math score</th>\n",
       "      <th>reading score</th>\n",
       "      <th>writing score</th>\n",
       "    </tr>\n",
       "  </thead>\n",
       "  <tbody>\n",
       "    <tr>\n",
       "      <th>0</th>\n",
       "      <td>0.0</td>\n",
       "      <td>1.0</td>\n",
       "      <td>1.0</td>\n",
       "      <td>1.0</td>\n",
       "      <td>1.0</td>\n",
       "      <td>72</td>\n",
       "      <td>72</td>\n",
       "      <td>74</td>\n",
       "    </tr>\n",
       "    <tr>\n",
       "      <th>1</th>\n",
       "      <td>0.0</td>\n",
       "      <td>2.0</td>\n",
       "      <td>4.0</td>\n",
       "      <td>1.0</td>\n",
       "      <td>0.0</td>\n",
       "      <td>69</td>\n",
       "      <td>90</td>\n",
       "      <td>88</td>\n",
       "    </tr>\n",
       "    <tr>\n",
       "      <th>2</th>\n",
       "      <td>0.0</td>\n",
       "      <td>1.0</td>\n",
       "      <td>3.0</td>\n",
       "      <td>1.0</td>\n",
       "      <td>1.0</td>\n",
       "      <td>90</td>\n",
       "      <td>95</td>\n",
       "      <td>93</td>\n",
       "    </tr>\n",
       "    <tr>\n",
       "      <th>3</th>\n",
       "      <td>1.0</td>\n",
       "      <td>0.0</td>\n",
       "      <td>0.0</td>\n",
       "      <td>0.0</td>\n",
       "      <td>1.0</td>\n",
       "      <td>47</td>\n",
       "      <td>57</td>\n",
       "      <td>44</td>\n",
       "    </tr>\n",
       "    <tr>\n",
       "      <th>4</th>\n",
       "      <td>1.0</td>\n",
       "      <td>2.0</td>\n",
       "      <td>4.0</td>\n",
       "      <td>1.0</td>\n",
       "      <td>1.0</td>\n",
       "      <td>76</td>\n",
       "      <td>78</td>\n",
       "      <td>75</td>\n",
       "    </tr>\n",
       "  </tbody>\n",
       "</table>\n",
       "</div>"
      ],
      "text/plain": [
       "   gender  race/ethnicity  parental level of education  lunch  \\\n",
       "0     0.0             1.0                          1.0    1.0   \n",
       "1     0.0             2.0                          4.0    1.0   \n",
       "2     0.0             1.0                          3.0    1.0   \n",
       "3     1.0             0.0                          0.0    0.0   \n",
       "4     1.0             2.0                          4.0    1.0   \n",
       "\n",
       "   test preparation course  math score  reading score  writing score  \n",
       "0                      1.0          72             72             74  \n",
       "1                      0.0          69             90             88  \n",
       "2                      1.0          90             95             93  \n",
       "3                      1.0          47             57             44  \n",
       "4                      1.0          76             78             75  "
      ]
     },
     "execution_count": 73,
     "metadata": {},
     "output_type": "execute_result"
    }
   ],
   "source": [
    "dfOrdinal.head()"
   ]
  },
  {
   "cell_type": "markdown",
   "metadata": {},
   "source": [
    "### Codificação One-Hot"
   ]
  },
  {
   "cell_type": "code",
   "execution_count": 116,
   "metadata": {},
   "outputs": [
    {
     "data": {
      "text/plain": [
       "[array(['female', 'male'], dtype=object),\n",
       " array(['group A', 'group B', 'group C', 'group D', 'group E'],\n",
       "       dtype=object),\n",
       " array([\"associate's degree\", \"bachelor's degree\", 'high school',\n",
       "        \"master's degree\", 'some college', 'some high school'],\n",
       "       dtype=object),\n",
       " array(['free/reduced', 'standard'], dtype=object),\n",
       " array(['completed', 'none'], dtype=object),\n",
       " array([  0,   8,  18,  19,  22,  23,  24,  26,  27,  28,  29,  30,  32,\n",
       "         33,  34,  35,  36,  37,  38,  39,  40,  41,  42,  43,  44,  45,\n",
       "         46,  47,  48,  49,  50,  51,  52,  53,  54,  55,  56,  57,  58,\n",
       "         59,  60,  61,  62,  63,  64,  65,  66,  67,  68,  69,  70,  71,\n",
       "         72,  73,  74,  75,  76,  77,  78,  79,  80,  81,  82,  83,  84,\n",
       "         85,  86,  87,  88,  89,  90,  91,  92,  93,  94,  95,  96,  97,\n",
       "         98,  99, 100]),\n",
       " array([ 17,  23,  24,  26,  28,  29,  31,  32,  34,  37,  38,  39,  40,\n",
       "         41,  42,  43,  44,  45,  46,  47,  48,  49,  50,  51,  52,  53,\n",
       "         54,  55,  56,  57,  58,  59,  60,  61,  62,  63,  64,  65,  66,\n",
       "         67,  68,  69,  70,  71,  72,  73,  74,  75,  76,  77,  78,  79,\n",
       "         80,  81,  82,  83,  84,  85,  86,  87,  88,  89,  90,  91,  92,\n",
       "         93,  94,  95,  96,  97,  99, 100]),\n",
       " array([ 10,  15,  19,  22,  23,  27,  28,  30,  32,  33,  34,  35,  36,\n",
       "         37,  38,  39,  40,  41,  42,  43,  44,  45,  46,  47,  48,  49,\n",
       "         50,  51,  52,  53,  54,  55,  56,  57,  58,  59,  60,  61,  62,\n",
       "         63,  64,  65,  66,  67,  68,  69,  70,  71,  72,  73,  74,  75,\n",
       "         76,  77,  78,  79,  80,  81,  82,  83,  84,  85,  86,  87,  88,\n",
       "         89,  90,  91,  92,  93,  94,  95,  96,  97,  98,  99, 100])]"
      ]
     },
     "execution_count": 116,
     "metadata": {},
     "output_type": "execute_result"
    }
   ],
   "source": [
    "dfOneHot = df.copy()\n",
    "\n",
    "# Cria o codificador\n",
    "onehot = OneHotEncoder()\n",
    "\n",
    "# Seleciona apenas as colunas categóricas\n",
    "df_categorical = dfOneHot.select_dtypes(include=['object'])\n",
    "\n",
    "# Ajusta o codificador aos dados e transforma\n",
    "dfOneHot_encoded = onehot.fit_transform(df_categorical)\n",
    "\n",
    "# Converte os dados codificados em um dataframe\n",
    "dfOneHot_encoded = pd.DataFrame(dfOneHot_encoded.toarray(), columns=onehot.get_feature_names_out(df_categorical.columns))\n",
    "\n",
    "# Substitui as colunas originais no dataframe\n",
    "dfOneHot.drop(df_categorical.columns, axis=1, inplace=True)\n",
    "dfOneHot = pd.concat([dfOneHot_encoded, dfOneHot], axis=1)\n",
    "\n",
    "lb.categories_"
   ]
  },
  {
   "cell_type": "code",
   "execution_count": 115,
   "metadata": {},
   "outputs": [
    {
     "data": {
      "text/html": [
       "<div>\n",
       "<style scoped>\n",
       "    .dataframe tbody tr th:only-of-type {\n",
       "        vertical-align: middle;\n",
       "    }\n",
       "\n",
       "    .dataframe tbody tr th {\n",
       "        vertical-align: top;\n",
       "    }\n",
       "\n",
       "    .dataframe thead th {\n",
       "        text-align: right;\n",
       "    }\n",
       "</style>\n",
       "<table border=\"1\" class=\"dataframe\">\n",
       "  <thead>\n",
       "    <tr style=\"text-align: right;\">\n",
       "      <th></th>\n",
       "      <th>gender_female</th>\n",
       "      <th>gender_male</th>\n",
       "      <th>race/ethnicity_group A</th>\n",
       "      <th>race/ethnicity_group B</th>\n",
       "      <th>race/ethnicity_group C</th>\n",
       "      <th>race/ethnicity_group D</th>\n",
       "      <th>race/ethnicity_group E</th>\n",
       "      <th>parental level of education_associate's degree</th>\n",
       "      <th>parental level of education_bachelor's degree</th>\n",
       "      <th>parental level of education_high school</th>\n",
       "      <th>parental level of education_master's degree</th>\n",
       "      <th>parental level of education_some college</th>\n",
       "      <th>parental level of education_some high school</th>\n",
       "      <th>lunch_free/reduced</th>\n",
       "      <th>lunch_standard</th>\n",
       "      <th>test preparation course_completed</th>\n",
       "      <th>test preparation course_none</th>\n",
       "      <th>math score</th>\n",
       "      <th>reading score</th>\n",
       "      <th>writing score</th>\n",
       "    </tr>\n",
       "  </thead>\n",
       "  <tbody>\n",
       "    <tr>\n",
       "      <th>0</th>\n",
       "      <td>1.0</td>\n",
       "      <td>0.0</td>\n",
       "      <td>0.0</td>\n",
       "      <td>1.0</td>\n",
       "      <td>0.0</td>\n",
       "      <td>0.0</td>\n",
       "      <td>0.0</td>\n",
       "      <td>0.0</td>\n",
       "      <td>1.0</td>\n",
       "      <td>0.0</td>\n",
       "      <td>0.0</td>\n",
       "      <td>0.0</td>\n",
       "      <td>0.0</td>\n",
       "      <td>0.0</td>\n",
       "      <td>1.0</td>\n",
       "      <td>0.0</td>\n",
       "      <td>1.0</td>\n",
       "      <td>72</td>\n",
       "      <td>72</td>\n",
       "      <td>74</td>\n",
       "    </tr>\n",
       "    <tr>\n",
       "      <th>1</th>\n",
       "      <td>1.0</td>\n",
       "      <td>0.0</td>\n",
       "      <td>0.0</td>\n",
       "      <td>0.0</td>\n",
       "      <td>1.0</td>\n",
       "      <td>0.0</td>\n",
       "      <td>0.0</td>\n",
       "      <td>0.0</td>\n",
       "      <td>0.0</td>\n",
       "      <td>0.0</td>\n",
       "      <td>0.0</td>\n",
       "      <td>1.0</td>\n",
       "      <td>0.0</td>\n",
       "      <td>0.0</td>\n",
       "      <td>1.0</td>\n",
       "      <td>1.0</td>\n",
       "      <td>0.0</td>\n",
       "      <td>69</td>\n",
       "      <td>90</td>\n",
       "      <td>88</td>\n",
       "    </tr>\n",
       "    <tr>\n",
       "      <th>2</th>\n",
       "      <td>1.0</td>\n",
       "      <td>0.0</td>\n",
       "      <td>0.0</td>\n",
       "      <td>1.0</td>\n",
       "      <td>0.0</td>\n",
       "      <td>0.0</td>\n",
       "      <td>0.0</td>\n",
       "      <td>0.0</td>\n",
       "      <td>0.0</td>\n",
       "      <td>0.0</td>\n",
       "      <td>1.0</td>\n",
       "      <td>0.0</td>\n",
       "      <td>0.0</td>\n",
       "      <td>0.0</td>\n",
       "      <td>1.0</td>\n",
       "      <td>0.0</td>\n",
       "      <td>1.0</td>\n",
       "      <td>90</td>\n",
       "      <td>95</td>\n",
       "      <td>93</td>\n",
       "    </tr>\n",
       "    <tr>\n",
       "      <th>3</th>\n",
       "      <td>0.0</td>\n",
       "      <td>1.0</td>\n",
       "      <td>1.0</td>\n",
       "      <td>0.0</td>\n",
       "      <td>0.0</td>\n",
       "      <td>0.0</td>\n",
       "      <td>0.0</td>\n",
       "      <td>1.0</td>\n",
       "      <td>0.0</td>\n",
       "      <td>0.0</td>\n",
       "      <td>0.0</td>\n",
       "      <td>0.0</td>\n",
       "      <td>0.0</td>\n",
       "      <td>1.0</td>\n",
       "      <td>0.0</td>\n",
       "      <td>0.0</td>\n",
       "      <td>1.0</td>\n",
       "      <td>47</td>\n",
       "      <td>57</td>\n",
       "      <td>44</td>\n",
       "    </tr>\n",
       "    <tr>\n",
       "      <th>4</th>\n",
       "      <td>0.0</td>\n",
       "      <td>1.0</td>\n",
       "      <td>0.0</td>\n",
       "      <td>0.0</td>\n",
       "      <td>1.0</td>\n",
       "      <td>0.0</td>\n",
       "      <td>0.0</td>\n",
       "      <td>0.0</td>\n",
       "      <td>0.0</td>\n",
       "      <td>0.0</td>\n",
       "      <td>0.0</td>\n",
       "      <td>1.0</td>\n",
       "      <td>0.0</td>\n",
       "      <td>0.0</td>\n",
       "      <td>1.0</td>\n",
       "      <td>0.0</td>\n",
       "      <td>1.0</td>\n",
       "      <td>76</td>\n",
       "      <td>78</td>\n",
       "      <td>75</td>\n",
       "    </tr>\n",
       "  </tbody>\n",
       "</table>\n",
       "</div>"
      ],
      "text/plain": [
       "   gender_female  gender_male  race/ethnicity_group A  race/ethnicity_group B  \\\n",
       "0            1.0          0.0                     0.0                     1.0   \n",
       "1            1.0          0.0                     0.0                     0.0   \n",
       "2            1.0          0.0                     0.0                     1.0   \n",
       "3            0.0          1.0                     1.0                     0.0   \n",
       "4            0.0          1.0                     0.0                     0.0   \n",
       "\n",
       "   race/ethnicity_group C  race/ethnicity_group D  race/ethnicity_group E  \\\n",
       "0                     0.0                     0.0                     0.0   \n",
       "1                     1.0                     0.0                     0.0   \n",
       "2                     0.0                     0.0                     0.0   \n",
       "3                     0.0                     0.0                     0.0   \n",
       "4                     1.0                     0.0                     0.0   \n",
       "\n",
       "   parental level of education_associate's degree  \\\n",
       "0                                             0.0   \n",
       "1                                             0.0   \n",
       "2                                             0.0   \n",
       "3                                             1.0   \n",
       "4                                             0.0   \n",
       "\n",
       "   parental level of education_bachelor's degree  \\\n",
       "0                                            1.0   \n",
       "1                                            0.0   \n",
       "2                                            0.0   \n",
       "3                                            0.0   \n",
       "4                                            0.0   \n",
       "\n",
       "   parental level of education_high school  \\\n",
       "0                                      0.0   \n",
       "1                                      0.0   \n",
       "2                                      0.0   \n",
       "3                                      0.0   \n",
       "4                                      0.0   \n",
       "\n",
       "   parental level of education_master's degree  \\\n",
       "0                                          0.0   \n",
       "1                                          0.0   \n",
       "2                                          1.0   \n",
       "3                                          0.0   \n",
       "4                                          0.0   \n",
       "\n",
       "   parental level of education_some college  \\\n",
       "0                                       0.0   \n",
       "1                                       1.0   \n",
       "2                                       0.0   \n",
       "3                                       0.0   \n",
       "4                                       1.0   \n",
       "\n",
       "   parental level of education_some high school  lunch_free/reduced  \\\n",
       "0                                           0.0                 0.0   \n",
       "1                                           0.0                 0.0   \n",
       "2                                           0.0                 0.0   \n",
       "3                                           0.0                 1.0   \n",
       "4                                           0.0                 0.0   \n",
       "\n",
       "   lunch_standard  test preparation course_completed  \\\n",
       "0             1.0                                0.0   \n",
       "1             1.0                                1.0   \n",
       "2             1.0                                0.0   \n",
       "3             0.0                                0.0   \n",
       "4             1.0                                0.0   \n",
       "\n",
       "   test preparation course_none  math score  reading score  writing score  \n",
       "0                           1.0          72             72             74  \n",
       "1                           0.0          69             90             88  \n",
       "2                           1.0          90             95             93  \n",
       "3                           1.0          47             57             44  \n",
       "4                           1.0          76             78             75  "
      ]
     },
     "execution_count": 115,
     "metadata": {},
     "output_type": "execute_result"
    }
   ],
   "source": [
    "dfOneHot.head()"
   ]
  },
  {
   "cell_type": "markdown",
   "metadata": {},
   "source": [
    "### Codificação Dummy (Binary)\n"
   ]
  },
  {
   "cell_type": "code",
   "execution_count": 138,
   "metadata": {},
   "outputs": [
    {
     "name": "stdout",
     "output_type": "stream",
     "text": [
      "[[0 1 0 0 0 0]\n",
      " [0 0 0 0 1 0]\n",
      " [0 0 0 1 0 0]\n",
      " ...\n",
      " [0 0 1 0 0 0]\n",
      " [0 0 0 0 1 0]\n",
      " [0 0 0 0 1 0]]\n"
     ]
    }
   ],
   "source": [
    "# Usando apenas a coluna Parental Level of Education\n",
    "dfBinary = df.copy()\n",
    "\n",
    "# Cria o codificador\n",
    "lb = LabelBinarizer()\n",
    "\n",
    "# Aplica o codificador\n",
    "bin = lb.fit_transform(dfBinary['parental level of education'])\n",
    "\n",
    "print(bin)"
   ]
  },
  {
   "cell_type": "markdown",
   "metadata": {},
   "source": [
    "# Relatório"
   ]
  },
  {
   "cell_type": "markdown",
   "metadata": {},
   "source": [
    "### 1) Avalie os atributos numéricos utilizando as medidas de posição e dispersão vistas em aula."
   ]
  },
  {
   "cell_type": "markdown",
   "metadata": {},
   "source": [
    "Os atributos numéricos foram avaliados acima, usando bibliotecas do Python para calcular as medidas de posição e dispersão."
   ]
  },
  {
   "cell_type": "markdown",
   "metadata": {},
   "source": [
    "### 2) Gere histogramas e gráficos boxplots para os atributos que forem analisados.\n"
   ]
  },
  {
   "cell_type": "markdown",
   "metadata": {},
   "source": [
    "Os histogramas e boxplots estão disponíveis acima."
   ]
  },
  {
   "cell_type": "markdown",
   "metadata": {},
   "source": [
    "### 3) Existem pontos que são classificados como outliers por apenas um dos métodos?"
   ]
  },
  {
   "cell_type": "markdown",
   "metadata": {},
   "source": [
    "Existem sim. O método de IQR encontrou vários pontos como outliers, porém o método de Z-Score com 3 desvios padrões não encontrou nenhum ponto como outlier"
   ]
  },
  {
   "cell_type": "markdown",
   "metadata": {},
   "source": [
    "### 4) Se você remover os outliers, como isso afeta as medidas de posição e dispersão que você obteve ?"
   ]
  },
  {
   "cell_type": "markdown",
   "metadata": {},
   "source": [
    "Nas medidas de posição, a moda e a mediana não são afetadas neste caso, porém a média é afetada, mas em um pequeno valor. Porém nas medidas de dispersão, a variância e o desvio padrão são afetados, diminuindo o seu valor, já que estamos excluindo os valores mais extremos."
   ]
  },
  {
   "cell_type": "markdown",
   "metadata": {},
   "source": [
    "###  5) Existem atributos que possuem variância zero ou próxima de zero?"
   ]
  },
  {
   "cell_type": "markdown",
   "metadata": {},
   "source": [
    "Neste caso, não existem atributos numéricos com variância zero ou próxima de zero. Na verdade, a variância de todos os atributos é relativamente significativa."
   ]
  },
  {
   "cell_type": "markdown",
   "metadata": {},
   "source": [
    "### 6) Caso o seu dataset contenha valores NaN, decida se estes valores devem ser preenchidos pela média ou pela mediana. Justifique sua escolha. "
   ]
  },
  {
   "cell_type": "markdown",
   "metadata": {},
   "source": [
    "Neste dataset não existem valores NaN, porém, caso existissem, eu escolheria preencher com a mediana, pois como é perceptível nos histogramas, a distribuição dos dados não é simétrica, e a média pode ser afetada por outliers."
   ]
  },
  {
   "cell_type": "markdown",
   "metadata": {},
   "source": [
    "### 7) Verifique se existem dados duplicados. "
   ]
  },
  {
   "cell_type": "markdown",
   "metadata": {},
   "source": [
    "Neste dataset não existem dados duplicados."
   ]
  }
 ],
 "metadata": {
  "kernelspec": {
   "display_name": "Python 3",
   "language": "python",
   "name": "python3"
  },
  "language_info": {
   "codemirror_mode": {
    "name": "ipython",
    "version": 3
   },
   "file_extension": ".py",
   "mimetype": "text/x-python",
   "name": "python",
   "nbconvert_exporter": "python",
   "pygments_lexer": "ipython3",
   "version": "3.11.5"
  }
 },
 "nbformat": 4,
 "nbformat_minor": 2
}
